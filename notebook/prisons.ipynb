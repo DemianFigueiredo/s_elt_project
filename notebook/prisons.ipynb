{
 "cells": [
  {
   "cell_type": "code",
   "execution_count": 27,
   "id": "3d73d873",
   "metadata": {},
   "outputs": [],
   "source": [
    "import pandas as pd\n",
    "import re"
   ]
  },
  {
   "cell_type": "code",
   "execution_count": null,
   "id": "51111e63",
   "metadata": {},
   "outputs": [],
   "source": []
  },
  {
   "cell_type": "code",
   "execution_count": 28,
   "id": "c2723d0f",
   "metadata": {},
   "outputs": [
    {
     "name": "stdout",
     "output_type": "stream",
     "text": [
      "               country               indicators        crime_category  year  \\\n",
      "0           Costa Rica  Persons entering prison  Intentional Homicide  2016   \n",
      "1             Dominica  Persons entering prison  Intentional Homicide  2016   \n",
      "2                Italy  Persons entering prison  Intentional Homicide  2016   \n",
      "3               Mexico  Persons entering prison  Intentional Homicide  2016   \n",
      "4  Antigua and Barbuda  Persons entering prison  Intentional Homicide  2017   \n",
      "\n",
      "   count  \n",
      "0    173  \n",
      "1     65  \n",
      "2   1443  \n",
      "3   9869  \n",
      "4      6  \n"
     ]
    }
   ],
   "source": [
    "#prisons_and_prisoners.csv\n",
    "\n",
    "prisons = '../data/prisons_and_prisoners.csv'\n",
    "try:\n",
    "    pri = pd.read_csv(prisons, sep=';')\n",
    "    pd.set_option('display.max_columns', None)\n",
    "    print(pri.head())\n",
    "except pd.errors.ParserError as e:\n",
    "    print(f\"Error parsing CSV file: {e}\")"
   ]
  },
  {
   "cell_type": "code",
   "execution_count": 29,
   "id": "0d692998",
   "metadata": {},
   "outputs": [
    {
     "data": {
      "text/html": [
       "<div>\n",
       "<style scoped>\n",
       "    .dataframe tbody tr th:only-of-type {\n",
       "        vertical-align: middle;\n",
       "    }\n",
       "\n",
       "    .dataframe tbody tr th {\n",
       "        vertical-align: top;\n",
       "    }\n",
       "\n",
       "    .dataframe thead th {\n",
       "        text-align: right;\n",
       "    }\n",
       "</style>\n",
       "<table border=\"1\" class=\"dataframe\">\n",
       "  <thead>\n",
       "    <tr style=\"text-align: right;\">\n",
       "      <th></th>\n",
       "      <th>country</th>\n",
       "      <th>indicators</th>\n",
       "      <th>crime_category</th>\n",
       "      <th>year</th>\n",
       "      <th>count</th>\n",
       "    </tr>\n",
       "  </thead>\n",
       "  <tbody>\n",
       "    <tr>\n",
       "      <th>0</th>\n",
       "      <td>Costa Rica</td>\n",
       "      <td>Persons entering prison</td>\n",
       "      <td>Intentional Homicide</td>\n",
       "      <td>2016</td>\n",
       "      <td>173</td>\n",
       "    </tr>\n",
       "    <tr>\n",
       "      <th>1</th>\n",
       "      <td>Dominica</td>\n",
       "      <td>Persons entering prison</td>\n",
       "      <td>Intentional Homicide</td>\n",
       "      <td>2016</td>\n",
       "      <td>65</td>\n",
       "    </tr>\n",
       "    <tr>\n",
       "      <th>2</th>\n",
       "      <td>Italy</td>\n",
       "      <td>Persons entering prison</td>\n",
       "      <td>Intentional Homicide</td>\n",
       "      <td>2016</td>\n",
       "      <td>1443</td>\n",
       "    </tr>\n",
       "    <tr>\n",
       "      <th>3</th>\n",
       "      <td>Mexico</td>\n",
       "      <td>Persons entering prison</td>\n",
       "      <td>Intentional Homicide</td>\n",
       "      <td>2016</td>\n",
       "      <td>9869</td>\n",
       "    </tr>\n",
       "    <tr>\n",
       "      <th>4</th>\n",
       "      <td>Antigua and Barbuda</td>\n",
       "      <td>Persons entering prison</td>\n",
       "      <td>Intentional Homicide</td>\n",
       "      <td>2017</td>\n",
       "      <td>6</td>\n",
       "    </tr>\n",
       "  </tbody>\n",
       "</table>\n",
       "</div>"
      ],
      "text/plain": [
       "               country               indicators        crime_category  year  \\\n",
       "0           Costa Rica  Persons entering prison  Intentional Homicide  2016   \n",
       "1             Dominica  Persons entering prison  Intentional Homicide  2016   \n",
       "2                Italy  Persons entering prison  Intentional Homicide  2016   \n",
       "3               Mexico  Persons entering prison  Intentional Homicide  2016   \n",
       "4  Antigua and Barbuda  Persons entering prison  Intentional Homicide  2017   \n",
       "\n",
       "   count  \n",
       "0    173  \n",
       "1     65  \n",
       "2   1443  \n",
       "3   9869  \n",
       "4      6  "
      ]
     },
     "execution_count": 29,
     "metadata": {},
     "output_type": "execute_result"
    }
   ],
   "source": [
    "pri.head()"
   ]
  },
  {
   "cell_type": "code",
   "execution_count": 30,
   "id": "e8b364b3",
   "metadata": {},
   "outputs": [
    {
     "data": {
      "text/plain": [
       "(4260, 5)"
      ]
     },
     "execution_count": 30,
     "metadata": {},
     "output_type": "execute_result"
    }
   ],
   "source": [
    "pri.shape"
   ]
  },
  {
   "cell_type": "code",
   "execution_count": 31,
   "id": "3bf4ed13",
   "metadata": {},
   "outputs": [
    {
     "name": "stdout",
     "output_type": "stream",
     "text": [
      "<class 'pandas.core.frame.DataFrame'>\n",
      "RangeIndex: 4260 entries, 0 to 4259\n",
      "Data columns (total 5 columns):\n",
      " #   Column          Non-Null Count  Dtype \n",
      "---  ------          --------------  ----- \n",
      " 0   country         4260 non-null   object\n",
      " 1   indicators      4260 non-null   object\n",
      " 2   crime_category  4260 non-null   object\n",
      " 3   year            4260 non-null   int64 \n",
      " 4   count           4260 non-null   int64 \n",
      "dtypes: int64(2), object(3)\n",
      "memory usage: 965.9 KB\n"
     ]
    }
   ],
   "source": [
    "pri.info(memory_usage='deep')"
   ]
  },
  {
   "cell_type": "code",
   "execution_count": 32,
   "id": "5bbba7b1",
   "metadata": {},
   "outputs": [
    {
     "name": "stdout",
     "output_type": "stream",
     "text": [
      "Index(['country', 'indicators', 'crime_category', 'year', 'count'], dtype='object')\n"
     ]
    }
   ],
   "source": [
    "print(pri.columns)"
   ]
  },
  {
   "cell_type": "code",
   "execution_count": 33,
   "id": "0e694fef",
   "metadata": {},
   "outputs": [],
   "source": [
    "pri['indicators'] = pri['indicators'].str.lower()\n",
    "pri['crime_category'] = pri['crime_category'].str.lower()"
   ]
  },
  {
   "cell_type": "code",
   "execution_count": 34,
   "id": "0b577700",
   "metadata": {},
   "outputs": [
    {
     "name": "stdout",
     "output_type": "stream",
     "text": [
      "['persons entering prison' 'persons held']\n"
     ]
    }
   ],
   "source": [
    " unique_values = pri['indicators'].unique()\n",
    " print(unique_values)"
   ]
  },
  {
   "cell_type": "code",
   "execution_count": 35,
   "id": "5b5b1836",
   "metadata": {},
   "outputs": [],
   "source": [
    "pri['indicators'] = pri['indicators'].replace('persons entering prison', 'entering')"
   ]
  },
  {
   "cell_type": "code",
   "execution_count": 36,
   "id": "7b82013e",
   "metadata": {},
   "outputs": [
    {
     "name": "stdout",
     "output_type": "stream",
     "text": [
      "['intentional homicide' 'drug possession' 'drug trafficking' 'bribery'\n",
      " 'acts leading to death or intending to cause death'\n",
      " 'other criminal acts not elsewhere classified'\n",
      " 'acts leading to harm or intending to cause harm to the person'\n",
      " 'acts against property involving violence' 'acts against property only'\n",
      " 'acts involving controlled psycho-active substances'\n",
      " 'acts against public order'\n",
      " 'acts against public safety and state security' 'national citizens'\n",
      " 'foreign citizens' 'sentenced']\n"
     ]
    }
   ],
   "source": [
    " unique_values = pri['crime_category'].unique()\n",
    " print(unique_values)"
   ]
  },
  {
   "cell_type": "code",
   "execution_count": 37,
   "id": "b50f7c07",
   "metadata": {},
   "outputs": [],
   "source": [
    "pri['crime_category'] = pri['crime_category'].replace('acts leading to death or intending to cause death', 'intending to cause death')"
   ]
  },
  {
   "cell_type": "code",
   "execution_count": 38,
   "id": "a884c6c9",
   "metadata": {},
   "outputs": [],
   "source": [
    "pri['crime_category'] = pri['crime_category'].replace('other criminal acts not elsewhere classified', 'other')\n",
    "pri['crime_category'] = pri['crime_category'].replace('acts leading to harm or intending to cause harm to the person', 'acts to cause harm')\n",
    "pri['crime_category'] = pri['crime_category'].replace('acts against property involving violence', 'violent against property')\n",
    "pri['crime_category'] = pri['crime_category'].replace('acts against property only', 'against property only')\n",
    "pri['crime_category'] = pri['crime_category'].replace('acts involving controlled psycho-active substances', 'controlled psychoactive substances')\n",
    "pri['crime_category'] = pri['crime_category'].replace('acts against public safety and state security', 'against public state security')"
   ]
  },
  {
   "cell_type": "code",
   "execution_count": 39,
   "id": "1f59d68b",
   "metadata": {},
   "outputs": [
    {
     "data": {
      "text/html": [
       "<div>\n",
       "<style scoped>\n",
       "    .dataframe tbody tr th:only-of-type {\n",
       "        vertical-align: middle;\n",
       "    }\n",
       "\n",
       "    .dataframe tbody tr th {\n",
       "        vertical-align: top;\n",
       "    }\n",
       "\n",
       "    .dataframe thead th {\n",
       "        text-align: right;\n",
       "    }\n",
       "</style>\n",
       "<table border=\"1\" class=\"dataframe\">\n",
       "  <thead>\n",
       "    <tr style=\"text-align: right;\">\n",
       "      <th></th>\n",
       "      <th>country</th>\n",
       "      <th>indicators</th>\n",
       "      <th>crime_category</th>\n",
       "      <th>year</th>\n",
       "      <th>count</th>\n",
       "    </tr>\n",
       "  </thead>\n",
       "  <tbody>\n",
       "    <tr>\n",
       "      <th>0</th>\n",
       "      <td>Costa Rica</td>\n",
       "      <td>entering</td>\n",
       "      <td>intentional homicide</td>\n",
       "      <td>2016</td>\n",
       "      <td>173</td>\n",
       "    </tr>\n",
       "    <tr>\n",
       "      <th>1</th>\n",
       "      <td>Dominica</td>\n",
       "      <td>entering</td>\n",
       "      <td>intentional homicide</td>\n",
       "      <td>2016</td>\n",
       "      <td>65</td>\n",
       "    </tr>\n",
       "    <tr>\n",
       "      <th>2</th>\n",
       "      <td>Italy</td>\n",
       "      <td>entering</td>\n",
       "      <td>intentional homicide</td>\n",
       "      <td>2016</td>\n",
       "      <td>1443</td>\n",
       "    </tr>\n",
       "    <tr>\n",
       "      <th>3</th>\n",
       "      <td>Mexico</td>\n",
       "      <td>entering</td>\n",
       "      <td>intentional homicide</td>\n",
       "      <td>2016</td>\n",
       "      <td>9869</td>\n",
       "    </tr>\n",
       "    <tr>\n",
       "      <th>4</th>\n",
       "      <td>Antigua and Barbuda</td>\n",
       "      <td>entering</td>\n",
       "      <td>intentional homicide</td>\n",
       "      <td>2017</td>\n",
       "      <td>6</td>\n",
       "    </tr>\n",
       "    <tr>\n",
       "      <th>5</th>\n",
       "      <td>Bermuda</td>\n",
       "      <td>entering</td>\n",
       "      <td>intentional homicide</td>\n",
       "      <td>2017</td>\n",
       "      <td>10</td>\n",
       "    </tr>\n",
       "    <tr>\n",
       "      <th>6</th>\n",
       "      <td>Switzerland</td>\n",
       "      <td>entering</td>\n",
       "      <td>intentional homicide</td>\n",
       "      <td>2017</td>\n",
       "      <td>52</td>\n",
       "    </tr>\n",
       "    <tr>\n",
       "      <th>7</th>\n",
       "      <td>Chile</td>\n",
       "      <td>entering</td>\n",
       "      <td>intentional homicide</td>\n",
       "      <td>2017</td>\n",
       "      <td>270</td>\n",
       "    </tr>\n",
       "    <tr>\n",
       "      <th>8</th>\n",
       "      <td>Costa Rica</td>\n",
       "      <td>entering</td>\n",
       "      <td>intentional homicide</td>\n",
       "      <td>2017</td>\n",
       "      <td>177</td>\n",
       "    </tr>\n",
       "    <tr>\n",
       "      <th>9</th>\n",
       "      <td>Dominica</td>\n",
       "      <td>entering</td>\n",
       "      <td>intentional homicide</td>\n",
       "      <td>2017</td>\n",
       "      <td>35</td>\n",
       "    </tr>\n",
       "    <tr>\n",
       "      <th>10</th>\n",
       "      <td>Italy</td>\n",
       "      <td>entering</td>\n",
       "      <td>intentional homicide</td>\n",
       "      <td>2017</td>\n",
       "      <td>1395</td>\n",
       "    </tr>\n",
       "    <tr>\n",
       "      <th>12</th>\n",
       "      <td>Mexico</td>\n",
       "      <td>entering</td>\n",
       "      <td>intentional homicide</td>\n",
       "      <td>2017</td>\n",
       "      <td>11835</td>\n",
       "    </tr>\n",
       "    <tr>\n",
       "      <th>13</th>\n",
       "      <td>Malta</td>\n",
       "      <td>entering</td>\n",
       "      <td>intentional homicide</td>\n",
       "      <td>2017</td>\n",
       "      <td>11</td>\n",
       "    </tr>\n",
       "    <tr>\n",
       "      <th>14</th>\n",
       "      <td>Antigua and Barbuda</td>\n",
       "      <td>entering</td>\n",
       "      <td>intentional homicide</td>\n",
       "      <td>2018</td>\n",
       "      <td>3</td>\n",
       "    </tr>\n",
       "    <tr>\n",
       "      <th>15</th>\n",
       "      <td>Belize</td>\n",
       "      <td>entering</td>\n",
       "      <td>intentional homicide</td>\n",
       "      <td>2018</td>\n",
       "      <td>91</td>\n",
       "    </tr>\n",
       "    <tr>\n",
       "      <th>16</th>\n",
       "      <td>Bermuda</td>\n",
       "      <td>entering</td>\n",
       "      <td>intentional homicide</td>\n",
       "      <td>2018</td>\n",
       "      <td>2</td>\n",
       "    </tr>\n",
       "    <tr>\n",
       "      <th>17</th>\n",
       "      <td>Switzerland</td>\n",
       "      <td>entering</td>\n",
       "      <td>intentional homicide</td>\n",
       "      <td>2018</td>\n",
       "      <td>55</td>\n",
       "    </tr>\n",
       "    <tr>\n",
       "      <th>18</th>\n",
       "      <td>Chile</td>\n",
       "      <td>entering</td>\n",
       "      <td>intentional homicide</td>\n",
       "      <td>2018</td>\n",
       "      <td>406</td>\n",
       "    </tr>\n",
       "    <tr>\n",
       "      <th>19</th>\n",
       "      <td>Dominica</td>\n",
       "      <td>entering</td>\n",
       "      <td>intentional homicide</td>\n",
       "      <td>2018</td>\n",
       "      <td>8</td>\n",
       "    </tr>\n",
       "    <tr>\n",
       "      <th>20</th>\n",
       "      <td>Italy</td>\n",
       "      <td>entering</td>\n",
       "      <td>intentional homicide</td>\n",
       "      <td>2018</td>\n",
       "      <td>1384</td>\n",
       "    </tr>\n",
       "  </tbody>\n",
       "</table>\n",
       "</div>"
      ],
      "text/plain": [
       "                country indicators        crime_category  year  count\n",
       "0            Costa Rica   entering  intentional homicide  2016    173\n",
       "1              Dominica   entering  intentional homicide  2016     65\n",
       "2                 Italy   entering  intentional homicide  2016   1443\n",
       "3                Mexico   entering  intentional homicide  2016   9869\n",
       "4   Antigua and Barbuda   entering  intentional homicide  2017      6\n",
       "5               Bermuda   entering  intentional homicide  2017     10\n",
       "6           Switzerland   entering  intentional homicide  2017     52\n",
       "7                 Chile   entering  intentional homicide  2017    270\n",
       "8            Costa Rica   entering  intentional homicide  2017    177\n",
       "9              Dominica   entering  intentional homicide  2017     35\n",
       "10                Italy   entering  intentional homicide  2017   1395\n",
       "12               Mexico   entering  intentional homicide  2017  11835\n",
       "13                Malta   entering  intentional homicide  2017     11\n",
       "14  Antigua and Barbuda   entering  intentional homicide  2018      3\n",
       "15               Belize   entering  intentional homicide  2018     91\n",
       "16              Bermuda   entering  intentional homicide  2018      2\n",
       "17          Switzerland   entering  intentional homicide  2018     55\n",
       "18                Chile   entering  intentional homicide  2018    406\n",
       "19             Dominica   entering  intentional homicide  2018      8\n",
       "20                Italy   entering  intentional homicide  2018   1384"
      ]
     },
     "execution_count": 39,
     "metadata": {},
     "output_type": "execute_result"
    }
   ],
   "source": [
    "pri1 = pri[~pri['count'].astype(str).str.contains(r'^0{1,3}$')]\n",
    "pri1.head(20)"
   ]
  },
  {
   "cell_type": "code",
   "execution_count": 40,
   "id": "b5ee72f4",
   "metadata": {},
   "outputs": [
    {
     "data": {
      "text/plain": [
       "(3923, 5)"
      ]
     },
     "execution_count": 40,
     "metadata": {},
     "output_type": "execute_result"
    }
   ],
   "source": [
    "pri1.shape"
   ]
  },
  {
   "cell_type": "code",
   "execution_count": 41,
   "id": "71dbe974",
   "metadata": {},
   "outputs": [],
   "source": [
    "pri2 = pri1.copy()"
   ]
  },
  {
   "cell_type": "code",
   "execution_count": 42,
   "id": "a67a1336",
   "metadata": {},
   "outputs": [],
   "source": [
    "pri2 = pri2[~pri2['crime_category'].isin(['national citizens', 'foreign citizens', 'sentenced'])]"
   ]
  },
  {
   "cell_type": "code",
   "execution_count": 43,
   "id": "daedd077",
   "metadata": {},
   "outputs": [
    {
     "data": {
      "text/plain": [
       "(2304, 5)"
      ]
     },
     "execution_count": 43,
     "metadata": {},
     "output_type": "execute_result"
    }
   ],
   "source": [
    "pri2.shape"
   ]
  },
  {
   "cell_type": "code",
   "execution_count": 44,
   "id": "fa654a46",
   "metadata": {},
   "outputs": [
    {
     "data": {
      "text/html": [
       "<div>\n",
       "<style scoped>\n",
       "    .dataframe tbody tr th:only-of-type {\n",
       "        vertical-align: middle;\n",
       "    }\n",
       "\n",
       "    .dataframe tbody tr th {\n",
       "        vertical-align: top;\n",
       "    }\n",
       "\n",
       "    .dataframe thead th {\n",
       "        text-align: right;\n",
       "    }\n",
       "</style>\n",
       "<table border=\"1\" class=\"dataframe\">\n",
       "  <thead>\n",
       "    <tr style=\"text-align: right;\">\n",
       "      <th></th>\n",
       "      <th>country</th>\n",
       "      <th>indicators</th>\n",
       "      <th>crime_category</th>\n",
       "      <th>year</th>\n",
       "      <th>count</th>\n",
       "    </tr>\n",
       "  </thead>\n",
       "  <tbody>\n",
       "    <tr>\n",
       "      <th>0</th>\n",
       "      <td>Costa Rica</td>\n",
       "      <td>entering</td>\n",
       "      <td>intentional homicide</td>\n",
       "      <td>2016</td>\n",
       "      <td>173</td>\n",
       "    </tr>\n",
       "    <tr>\n",
       "      <th>1</th>\n",
       "      <td>Dominica</td>\n",
       "      <td>entering</td>\n",
       "      <td>intentional homicide</td>\n",
       "      <td>2016</td>\n",
       "      <td>65</td>\n",
       "    </tr>\n",
       "    <tr>\n",
       "      <th>2</th>\n",
       "      <td>Italy</td>\n",
       "      <td>entering</td>\n",
       "      <td>intentional homicide</td>\n",
       "      <td>2016</td>\n",
       "      <td>1443</td>\n",
       "    </tr>\n",
       "    <tr>\n",
       "      <th>3</th>\n",
       "      <td>Mexico</td>\n",
       "      <td>entering</td>\n",
       "      <td>intentional homicide</td>\n",
       "      <td>2016</td>\n",
       "      <td>9869</td>\n",
       "    </tr>\n",
       "    <tr>\n",
       "      <th>4</th>\n",
       "      <td>Antigua and Barbuda</td>\n",
       "      <td>entering</td>\n",
       "      <td>intentional homicide</td>\n",
       "      <td>2017</td>\n",
       "      <td>6</td>\n",
       "    </tr>\n",
       "    <tr>\n",
       "      <th>...</th>\n",
       "      <td>...</td>\n",
       "      <td>...</td>\n",
       "      <td>...</td>\n",
       "      <td>...</td>\n",
       "      <td>...</td>\n",
       "    </tr>\n",
       "    <tr>\n",
       "      <th>3771</th>\n",
       "      <td>Argentina</td>\n",
       "      <td>persons held</td>\n",
       "      <td>against public state security</td>\n",
       "      <td>2021</td>\n",
       "      <td>3</td>\n",
       "    </tr>\n",
       "    <tr>\n",
       "      <th>3772</th>\n",
       "      <td>Austria</td>\n",
       "      <td>persons held</td>\n",
       "      <td>against public state security</td>\n",
       "      <td>2021</td>\n",
       "      <td>19</td>\n",
       "    </tr>\n",
       "    <tr>\n",
       "      <th>3774</th>\n",
       "      <td>Colombia</td>\n",
       "      <td>persons held</td>\n",
       "      <td>against public state security</td>\n",
       "      <td>2021</td>\n",
       "      <td>153</td>\n",
       "    </tr>\n",
       "    <tr>\n",
       "      <th>3775</th>\n",
       "      <td>Italy</td>\n",
       "      <td>persons held</td>\n",
       "      <td>against public state security</td>\n",
       "      <td>2021</td>\n",
       "      <td>25</td>\n",
       "    </tr>\n",
       "    <tr>\n",
       "      <th>3776</th>\n",
       "      <td>Mexico</td>\n",
       "      <td>persons held</td>\n",
       "      <td>against public state security</td>\n",
       "      <td>2021</td>\n",
       "      <td>24</td>\n",
       "    </tr>\n",
       "  </tbody>\n",
       "</table>\n",
       "<p>2304 rows × 5 columns</p>\n",
       "</div>"
      ],
      "text/plain": [
       "                  country    indicators                 crime_category  year  \\\n",
       "0              Costa Rica      entering           intentional homicide  2016   \n",
       "1                Dominica      entering           intentional homicide  2016   \n",
       "2                   Italy      entering           intentional homicide  2016   \n",
       "3                  Mexico      entering           intentional homicide  2016   \n",
       "4     Antigua and Barbuda      entering           intentional homicide  2017   \n",
       "...                   ...           ...                            ...   ...   \n",
       "3771            Argentina  persons held  against public state security  2021   \n",
       "3772              Austria  persons held  against public state security  2021   \n",
       "3774             Colombia  persons held  against public state security  2021   \n",
       "3775                Italy  persons held  against public state security  2021   \n",
       "3776               Mexico  persons held  against public state security  2021   \n",
       "\n",
       "      count  \n",
       "0       173  \n",
       "1        65  \n",
       "2      1443  \n",
       "3      9869  \n",
       "4         6  \n",
       "...     ...  \n",
       "3771      3  \n",
       "3772     19  \n",
       "3774    153  \n",
       "3775     25  \n",
       "3776     24  \n",
       "\n",
       "[2304 rows x 5 columns]"
      ]
     },
     "execution_count": 44,
     "metadata": {},
     "output_type": "execute_result"
    }
   ],
   "source": [
    "pri2"
   ]
  },
  {
   "cell_type": "code",
   "execution_count": 45,
   "id": "937ae114",
   "metadata": {},
   "outputs": [
    {
     "data": {
      "text/plain": [
       "(2294, 5)"
      ]
     },
     "execution_count": 45,
     "metadata": {},
     "output_type": "execute_result"
    }
   ],
   "source": [
    "pri2 = pri2.drop_duplicates()\n",
    "\n",
    "pri2.shape"
   ]
  },
  {
   "cell_type": "code",
   "execution_count": 47,
   "id": "4190fa73",
   "metadata": {},
   "outputs": [
    {
     "data": {
      "text/html": [
       "<div>\n",
       "<style scoped>\n",
       "    .dataframe tbody tr th:only-of-type {\n",
       "        vertical-align: middle;\n",
       "    }\n",
       "\n",
       "    .dataframe tbody tr th {\n",
       "        vertical-align: top;\n",
       "    }\n",
       "\n",
       "    .dataframe thead th {\n",
       "        text-align: right;\n",
       "    }\n",
       "</style>\n",
       "<table border=\"1\" class=\"dataframe\">\n",
       "  <thead>\n",
       "    <tr style=\"text-align: right;\">\n",
       "      <th></th>\n",
       "      <th>prison_id</th>\n",
       "      <th>country</th>\n",
       "      <th>indicators</th>\n",
       "      <th>crime_category</th>\n",
       "      <th>year</th>\n",
       "      <th>count</th>\n",
       "    </tr>\n",
       "  </thead>\n",
       "  <tbody>\n",
       "    <tr>\n",
       "      <th>0</th>\n",
       "      <td>1</td>\n",
       "      <td>Costa Rica</td>\n",
       "      <td>entering</td>\n",
       "      <td>intentional homicide</td>\n",
       "      <td>2016</td>\n",
       "      <td>173</td>\n",
       "    </tr>\n",
       "    <tr>\n",
       "      <th>1</th>\n",
       "      <td>2</td>\n",
       "      <td>Dominica</td>\n",
       "      <td>entering</td>\n",
       "      <td>intentional homicide</td>\n",
       "      <td>2016</td>\n",
       "      <td>65</td>\n",
       "    </tr>\n",
       "    <tr>\n",
       "      <th>2</th>\n",
       "      <td>3</td>\n",
       "      <td>Italy</td>\n",
       "      <td>entering</td>\n",
       "      <td>intentional homicide</td>\n",
       "      <td>2016</td>\n",
       "      <td>1443</td>\n",
       "    </tr>\n",
       "    <tr>\n",
       "      <th>3</th>\n",
       "      <td>4</td>\n",
       "      <td>Mexico</td>\n",
       "      <td>entering</td>\n",
       "      <td>intentional homicide</td>\n",
       "      <td>2016</td>\n",
       "      <td>9869</td>\n",
       "    </tr>\n",
       "    <tr>\n",
       "      <th>4</th>\n",
       "      <td>5</td>\n",
       "      <td>Antigua and Barbuda</td>\n",
       "      <td>entering</td>\n",
       "      <td>intentional homicide</td>\n",
       "      <td>2017</td>\n",
       "      <td>6</td>\n",
       "    </tr>\n",
       "  </tbody>\n",
       "</table>\n",
       "</div>"
      ],
      "text/plain": [
       "   prison_id              country indicators        crime_category  year  \\\n",
       "0          1           Costa Rica   entering  intentional homicide  2016   \n",
       "1          2             Dominica   entering  intentional homicide  2016   \n",
       "2          3                Italy   entering  intentional homicide  2016   \n",
       "3          4               Mexico   entering  intentional homicide  2016   \n",
       "4          5  Antigua and Barbuda   entering  intentional homicide  2017   \n",
       "\n",
       "   count  \n",
       "0    173  \n",
       "1     65  \n",
       "2   1443  \n",
       "3   9869  \n",
       "4      6  "
      ]
     },
     "execution_count": 47,
     "metadata": {},
     "output_type": "execute_result"
    }
   ],
   "source": [
    "start = 1\n",
    "\n",
    "pri2.insert(0, 'prison_id', range(start, start + len(pri2)))\n",
    "pri2.head()"
   ]
  },
  {
   "cell_type": "code",
   "execution_count": 48,
   "id": "1715e34c",
   "metadata": {},
   "outputs": [],
   "source": [
    "pri2.to_csv('prison.csv', index=False)"
   ]
  },
  {
   "cell_type": "code",
   "execution_count": null,
   "id": "196d118f",
   "metadata": {},
   "outputs": [],
   "source": []
  }
 ],
 "metadata": {
  "kernelspec": {
   "display_name": "Python 3 (ipykernel)",
   "language": "python",
   "name": "python3"
  },
  "language_info": {
   "codemirror_mode": {
    "name": "ipython",
    "version": 3
   },
   "file_extension": ".py",
   "mimetype": "text/x-python",
   "name": "python",
   "nbconvert_exporter": "python",
   "pygments_lexer": "ipython3",
   "version": "3.10.9"
  }
 },
 "nbformat": 4,
 "nbformat_minor": 5
}
