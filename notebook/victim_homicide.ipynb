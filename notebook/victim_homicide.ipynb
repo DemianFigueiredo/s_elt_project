{
 "cells": [
  {
   "cell_type": "code",
   "execution_count": 1,
   "id": "c2e1139f",
   "metadata": {},
   "outputs": [],
   "source": [
    "import pandas as pd\n",
    "import re"
   ]
  },
  {
   "cell_type": "code",
   "execution_count": 2,
   "id": "08d59ac8",
   "metadata": {},
   "outputs": [],
   "source": [
    "# victim_intentional_homicide.csv\n",
    "\n",
    "s = '../data/victim_intentional_homicide.csv'\n",
    "\n",
    "vic = pd.read_csv(s, delimiter=';')\n",
    "\n",
    "pd.set_option('display.max_columns', None)"
   ]
  },
  {
   "cell_type": "code",
   "execution_count": 3,
   "id": "fe1316f7",
   "metadata": {},
   "outputs": [
    {
     "data": {
      "text/html": [
       "<div>\n",
       "<style scoped>\n",
       "    .dataframe tbody tr th:only-of-type {\n",
       "        vertical-align: middle;\n",
       "    }\n",
       "\n",
       "    .dataframe tbody tr th {\n",
       "        vertical-align: top;\n",
       "    }\n",
       "\n",
       "    .dataframe thead th {\n",
       "        text-align: right;\n",
       "    }\n",
       "</style>\n",
       "<table border=\"1\" class=\"dataframe\">\n",
       "  <thead>\n",
       "    <tr style=\"text-align: right;\">\n",
       "      <th></th>\n",
       "      <th>country</th>\n",
       "      <th>year</th>\n",
       "      <th>count</th>\n",
       "    </tr>\n",
       "  </thead>\n",
       "  <tbody>\n",
       "    <tr>\n",
       "      <th>0</th>\n",
       "      <td>Australia</td>\n",
       "      <td>1998</td>\n",
       "      <td>334</td>\n",
       "    </tr>\n",
       "    <tr>\n",
       "      <th>1</th>\n",
       "      <td>Austria</td>\n",
       "      <td>1998</td>\n",
       "      <td>77</td>\n",
       "    </tr>\n",
       "    <tr>\n",
       "      <th>2</th>\n",
       "      <td>Canada</td>\n",
       "      <td>1998</td>\n",
       "      <td>559</td>\n",
       "    </tr>\n",
       "    <tr>\n",
       "      <th>3</th>\n",
       "      <td>Switzerland</td>\n",
       "      <td>1998</td>\n",
       "      <td>76</td>\n",
       "    </tr>\n",
       "    <tr>\n",
       "      <th>4</th>\n",
       "      <td>Colombia</td>\n",
       "      <td>1998</td>\n",
       "      <td>23089</td>\n",
       "    </tr>\n",
       "  </tbody>\n",
       "</table>\n",
       "</div>"
      ],
      "text/plain": [
       "       country  year  count\n",
       "0    Australia  1998    334\n",
       "1      Austria  1998     77\n",
       "2       Canada  1998    559\n",
       "3  Switzerland  1998     76\n",
       "4     Colombia  1998  23089"
      ]
     },
     "execution_count": 3,
     "metadata": {},
     "output_type": "execute_result"
    }
   ],
   "source": [
    "vic.head()"
   ]
  },
  {
   "cell_type": "code",
   "execution_count": 4,
   "id": "b8a6525a",
   "metadata": {},
   "outputs": [
    {
     "data": {
      "text/plain": [
       "(618, 3)"
      ]
     },
     "execution_count": 4,
     "metadata": {},
     "output_type": "execute_result"
    }
   ],
   "source": [
    "vic.shape"
   ]
  },
  {
   "cell_type": "code",
   "execution_count": 5,
   "id": "5d250501",
   "metadata": {},
   "outputs": [
    {
     "name": "stdout",
     "output_type": "stream",
     "text": [
      "<class 'pandas.core.frame.DataFrame'>\n",
      "RangeIndex: 618 entries, 0 to 617\n",
      "Data columns (total 3 columns):\n",
      " #   Column   Non-Null Count  Dtype \n",
      "---  ------   --------------  ----- \n",
      " 0   country  618 non-null    object\n",
      " 1   year     618 non-null    int64 \n",
      " 2   count    618 non-null    int64 \n",
      "dtypes: int64(2), object(1)\n",
      "memory usage: 49.1 KB\n"
     ]
    }
   ],
   "source": [
    "vic.info(memory_usage='deep')"
   ]
  },
  {
   "cell_type": "code",
   "execution_count": 6,
   "id": "242b0860",
   "metadata": {},
   "outputs": [
    {
     "name": "stdout",
     "output_type": "stream",
     "text": [
      "[  334    77   559    76 23089   224   174     9  1643   522   105   147\n",
      "   889   859     4 13656     5   125    14  5361   244 25127   385    60\n",
      "     2   539    89 24355   245   172     7  1682   486   111   137   819\n",
      "   854     6 12249    10   109    25  5052   216 22604   362    82   212\n",
      "    41   546    69 26539   249   191  1833   553   101   154   766   887\n",
      " 10737   116    36  5142   120   214 21758  3129   347    70   282    64\n",
      "     3   554    86 27840   257   135     1  1658   577    81   193   709\n",
      "  1139 10285    28  5020   151   218 21405  3570   366    65   319    87\n",
      "   582 28387   258   139  1906   564    73   208   644  1045 10088   119\n",
      "  4538   171   231 21553  2967   302    50    67   549   513 23523   300\n",
      "   163     8   587   975 10087    21  6434   229   197 19824  2338   263\n",
      "    59    79   625 20210   280   134   520    83   159  1471  9329    27\n",
      "  4273   260   200 18793  2198   259    54   664   576 18111   335   108\n",
      "   518    68   169   610  1674  9921    20  4806   386   190 18528  2111\n",
      "    11   281    61    92   608   590 17479   351   130   476    74   153\n",
      "  1340 10452    12  4687   371   202 19106  2139    17   255    45    97\n",
      "   597   616 17198   369   126  2273   482    62   631  1584  8867    24\n",
      "  4435   391   194 18400  2371    16   261    58   103   614   588 16140\n",
      "   512   114  2607   407    71   615  1619 14006  3974   547   221 18084\n",
      "  2642    51   630 15817   525    94    13  2625   412    49   144  1683\n",
      " 19803  3703   507   226 16767  2384   129   557    52   541 15459   527\n",
      "    15  2624   401   150   529  1447 25757   124  3654   473   205 15893\n",
      "  2511   248   609    46   636 16127   474  2343   552  1133 27213  3307\n",
      "   352   199 15554  2648   243   145   434 16440  1922   364   128   530\n",
      "  1102 25967   122   380   267 16213  3072    99   509    57   556 15422\n",
      "   411    90  1725   127   502  1202 23063 17023  3228    42   123   438\n",
      " 13343   477  1310   323   475  1005 20010   405   268 17805  2837   236\n",
      "    44   611   419 12783    88  1050    37   110   469  1209 20762   100\n",
      "   420   293 18673   227   138   620 12402   578   959   294   104   404\n",
      "  1354 24559    66   463 19016  2317   142   665   779 12298   603    19\n",
      "   970   307   376  1647 32079   495   283 20336   143   662   825 12926\n",
      "   585   994   289   359  1289 36685   517   421 21022  2307   225   689\n",
      "   751 12925   563  1187   331    33   132   317 36661   394 21325  2417\n",
      "   102   759    47   926 12347   570  1372   298    40   285  1333 36773\n",
      "   399   338 19972  2093   788   708 14159  2496   290   173   303  1474\n",
      " 35700   448   305 24865]\n"
     ]
    }
   ],
   "source": [
    " unique_values = vic['count'].unique()\n",
    " print(unique_values)"
   ]
  },
  {
   "cell_type": "code",
   "execution_count": 7,
   "id": "80fc3ca2",
   "metadata": {},
   "outputs": [
    {
     "data": {
      "text/plain": [
       "(618, 3)"
      ]
     },
     "execution_count": 7,
     "metadata": {},
     "output_type": "execute_result"
    }
   ],
   "source": [
    "vic = vic.drop_duplicates()\n",
    "\n",
    "vic.shape"
   ]
  },
  {
   "cell_type": "code",
   "execution_count": 9,
   "id": "15ce33e2",
   "metadata": {},
   "outputs": [
    {
     "data": {
      "text/html": [
       "<div>\n",
       "<style scoped>\n",
       "    .dataframe tbody tr th:only-of-type {\n",
       "        vertical-align: middle;\n",
       "    }\n",
       "\n",
       "    .dataframe tbody tr th {\n",
       "        vertical-align: top;\n",
       "    }\n",
       "\n",
       "    .dataframe thead th {\n",
       "        text-align: right;\n",
       "    }\n",
       "</style>\n",
       "<table border=\"1\" class=\"dataframe\">\n",
       "  <thead>\n",
       "    <tr style=\"text-align: right;\">\n",
       "      <th></th>\n",
       "      <th>vic_id</th>\n",
       "      <th>country</th>\n",
       "      <th>year</th>\n",
       "      <th>count</th>\n",
       "    </tr>\n",
       "  </thead>\n",
       "  <tbody>\n",
       "    <tr>\n",
       "      <th>0</th>\n",
       "      <td>1</td>\n",
       "      <td>Australia</td>\n",
       "      <td>1998</td>\n",
       "      <td>334</td>\n",
       "    </tr>\n",
       "    <tr>\n",
       "      <th>1</th>\n",
       "      <td>2</td>\n",
       "      <td>Austria</td>\n",
       "      <td>1998</td>\n",
       "      <td>77</td>\n",
       "    </tr>\n",
       "    <tr>\n",
       "      <th>2</th>\n",
       "      <td>3</td>\n",
       "      <td>Canada</td>\n",
       "      <td>1998</td>\n",
       "      <td>559</td>\n",
       "    </tr>\n",
       "    <tr>\n",
       "      <th>3</th>\n",
       "      <td>4</td>\n",
       "      <td>Switzerland</td>\n",
       "      <td>1998</td>\n",
       "      <td>76</td>\n",
       "    </tr>\n",
       "    <tr>\n",
       "      <th>4</th>\n",
       "      <td>5</td>\n",
       "      <td>Colombia</td>\n",
       "      <td>1998</td>\n",
       "      <td>23089</td>\n",
       "    </tr>\n",
       "  </tbody>\n",
       "</table>\n",
       "</div>"
      ],
      "text/plain": [
       "   vic_id      country  year  count\n",
       "0       1    Australia  1998    334\n",
       "1       2      Austria  1998     77\n",
       "2       3       Canada  1998    559\n",
       "3       4  Switzerland  1998     76\n",
       "4       5     Colombia  1998  23089"
      ]
     },
     "execution_count": 9,
     "metadata": {},
     "output_type": "execute_result"
    }
   ],
   "source": [
    "start = 1\n",
    "\n",
    "vic.insert(0, 'vic_id', range(start, start + len(vic)))\n",
    "vic.head()"
   ]
  },
  {
   "cell_type": "code",
   "execution_count": 10,
   "id": "6ac98c3a",
   "metadata": {},
   "outputs": [],
   "source": [
    "vic.to_csv('victim.csv', index=False)"
   ]
  },
  {
   "cell_type": "code",
   "execution_count": null,
   "id": "d12ad9e2",
   "metadata": {},
   "outputs": [],
   "source": []
  }
 ],
 "metadata": {
  "kernelspec": {
   "display_name": "Python 3 (ipykernel)",
   "language": "python",
   "name": "python3"
  },
  "language_info": {
   "codemirror_mode": {
    "name": "ipython",
    "version": 3
   },
   "file_extension": ".py",
   "mimetype": "text/x-python",
   "name": "python",
   "nbconvert_exporter": "python",
   "pygments_lexer": "ipython3",
   "version": "3.10.9"
  }
 },
 "nbformat": 4,
 "nbformat_minor": 5
}
