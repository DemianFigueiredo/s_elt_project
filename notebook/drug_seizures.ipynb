{
 "cells": [
  {
   "cell_type": "code",
   "execution_count": 1,
   "id": "1451037a",
   "metadata": {},
   "outputs": [],
   "source": [
    "import pandas as pd\n",
    "import re"
   ]
  },
  {
   "cell_type": "code",
   "execution_count": 2,
   "id": "9a278356",
   "metadata": {},
   "outputs": [
    {
     "name": "stdout",
     "output_type": "stream",
     "text": [
      "        country                                     drug_group  year      kg\n",
      "0  South Africa                        Ecstasy type substances  2021    1,00\n",
      "1  South Africa                        Ecstasy type substances  2021    0,00\n",
      "2  South Africa                        Ecstasy type substances  2021    0,10\n",
      "3  South Africa  Amphetamine-type stimulants excluding ecstasy  2021   20,00\n",
      "4  South Africa  Amphetamine-type stimulants excluding ecstasy  2021  459,91\n"
     ]
    }
   ],
   "source": [
    "drug_s = '../data/drug_seizures.csv'\n",
    "try:\n",
    "    d_s = pd.read_csv(drug_s, sep=';')\n",
    "    pd.set_option('display.max_columns', None)\n",
    "    print(d_s.head())\n",
    "except pd.errors.ParserError as e:\n",
    "    print(f\"Error parsing CSV file: {e}\")"
   ]
  },
  {
   "cell_type": "code",
   "execution_count": 3,
   "id": "30eb46cf",
   "metadata": {},
   "outputs": [
    {
     "data": {
      "text/html": [
       "<div>\n",
       "<style scoped>\n",
       "    .dataframe tbody tr th:only-of-type {\n",
       "        vertical-align: middle;\n",
       "    }\n",
       "\n",
       "    .dataframe tbody tr th {\n",
       "        vertical-align: top;\n",
       "    }\n",
       "\n",
       "    .dataframe thead th {\n",
       "        text-align: right;\n",
       "    }\n",
       "</style>\n",
       "<table border=\"1\" class=\"dataframe\">\n",
       "  <thead>\n",
       "    <tr style=\"text-align: right;\">\n",
       "      <th></th>\n",
       "      <th>country</th>\n",
       "      <th>drug_group</th>\n",
       "      <th>year</th>\n",
       "      <th>kg</th>\n",
       "    </tr>\n",
       "  </thead>\n",
       "  <tbody>\n",
       "    <tr>\n",
       "      <th>0</th>\n",
       "      <td>South Africa</td>\n",
       "      <td>Ecstasy type substances</td>\n",
       "      <td>2021</td>\n",
       "      <td>1,00</td>\n",
       "    </tr>\n",
       "    <tr>\n",
       "      <th>1</th>\n",
       "      <td>South Africa</td>\n",
       "      <td>Ecstasy type substances</td>\n",
       "      <td>2021</td>\n",
       "      <td>0,00</td>\n",
       "    </tr>\n",
       "    <tr>\n",
       "      <th>2</th>\n",
       "      <td>South Africa</td>\n",
       "      <td>Ecstasy type substances</td>\n",
       "      <td>2021</td>\n",
       "      <td>0,10</td>\n",
       "    </tr>\n",
       "    <tr>\n",
       "      <th>3</th>\n",
       "      <td>South Africa</td>\n",
       "      <td>Amphetamine-type stimulants excluding ecstasy</td>\n",
       "      <td>2021</td>\n",
       "      <td>20,00</td>\n",
       "    </tr>\n",
       "    <tr>\n",
       "      <th>4</th>\n",
       "      <td>South Africa</td>\n",
       "      <td>Amphetamine-type stimulants excluding ecstasy</td>\n",
       "      <td>2021</td>\n",
       "      <td>459,91</td>\n",
       "    </tr>\n",
       "  </tbody>\n",
       "</table>\n",
       "</div>"
      ],
      "text/plain": [
       "        country                                     drug_group  year      kg\n",
       "0  South Africa                        Ecstasy type substances  2021    1,00\n",
       "1  South Africa                        Ecstasy type substances  2021    0,00\n",
       "2  South Africa                        Ecstasy type substances  2021    0,10\n",
       "3  South Africa  Amphetamine-type stimulants excluding ecstasy  2021   20,00\n",
       "4  South Africa  Amphetamine-type stimulants excluding ecstasy  2021  459,91"
      ]
     },
     "execution_count": 3,
     "metadata": {},
     "output_type": "execute_result"
    }
   ],
   "source": [
    "d_s.head()"
   ]
  },
  {
   "cell_type": "code",
   "execution_count": 4,
   "id": "8597ad0f",
   "metadata": {},
   "outputs": [
    {
     "data": {
      "text/plain": [
       "(3660, 4)"
      ]
     },
     "execution_count": 4,
     "metadata": {},
     "output_type": "execute_result"
    }
   ],
   "source": [
    "d_s.shape"
   ]
  },
  {
   "cell_type": "code",
   "execution_count": 5,
   "id": "c320fb50",
   "metadata": {},
   "outputs": [
    {
     "name": "stdout",
     "output_type": "stream",
     "text": [
      "<class 'pandas.core.frame.DataFrame'>\n",
      "RangeIndex: 3660 entries, 0 to 3659\n",
      "Data columns (total 4 columns):\n",
      " #   Column      Non-Null Count  Dtype \n",
      "---  ------      --------------  ----- \n",
      " 0   country     3660 non-null   object\n",
      " 1   drug_group  3660 non-null   object\n",
      " 2   year        3660 non-null   int64 \n",
      " 3   kg          3635 non-null   object\n",
      "dtypes: int64(1), object(3)\n",
      "memory usage: 774.8 KB\n"
     ]
    }
   ],
   "source": [
    "d_s.info(memory_usage='deep')"
   ]
  },
  {
   "cell_type": "code",
   "execution_count": 6,
   "id": "fcce65d8",
   "metadata": {},
   "outputs": [
    {
     "name": "stdout",
     "output_type": "stream",
     "text": [
      "['South Africa' 'Antigua and Barbuda' 'Jamaica' 'Trinidad and Tobago'\n",
      " 'Belize' 'Costa Rica' 'Canada' 'Mexico' 'Argentina' 'Chile' 'Colombia'\n",
      " 'Ecuador' 'Uruguay' 'Thailand' 'Israel' 'Croatia' 'Austria' 'Belgium'\n",
      " 'Czechia' 'Italy' 'Luxembourg' 'Malta' 'Portugal' 'Slovenia' 'Spain'\n",
      " 'Switzerland' 'Australia']\n"
     ]
    }
   ],
   "source": [
    " unique_values = d_s['country'].unique()\n",
    " print(unique_values)"
   ]
  },
  {
   "cell_type": "code",
   "execution_count": 7,
   "id": "b2c96001",
   "metadata": {},
   "outputs": [],
   "source": [
    "list = ['Antigua and Barbuda', 'Argentina', 'Australia', 'Austria', 'Belgium', 'Belize', 'Bermuda', 'Canada', 'Chile', 'Colombia', 'Costa Rica', 'Croatia', 'Czech Republic', 'Dominica', 'Ecuador', 'Israel', 'Italy', 'Jamaica', 'Luxembourg', 'Malta', 'Mexico', 'Portugal', 'Slovenia', 'South Africa', 'Spain', 'Switzerland', 'Thailand', 'Trinidad and Tobago', 'Uruguay']"
   ]
  },
  {
   "cell_type": "code",
   "execution_count": 8,
   "id": "657c68aa",
   "metadata": {},
   "outputs": [
    {
     "name": "stdout",
     "output_type": "stream",
     "text": [
      "['Czechia']\n"
     ]
    }
   ],
   "source": [
    "non_duplicate_values = d_s.loc[~d_s['country'].isin(list), 'country'].unique()\n",
    "print(non_duplicate_values)"
   ]
  },
  {
   "cell_type": "code",
   "execution_count": 9,
   "id": "16f23b92",
   "metadata": {},
   "outputs": [
    {
     "name": "stdout",
     "output_type": "stream",
     "text": [
      "['Ecstasy type substances' 'Amphetamine-type stimulants excluding ecstasy'\n",
      " 'Cannabis-type drugs (excluding synthetic cannabinoids)' 'Cocaine-type'\n",
      " 'Hallucinogens' 'NPS' 'Opioids' 'Sedatives and tranquillizers'\n",
      " 'Precursors' 'Any other drugs/substances' 'Solvents and Inhalants']\n"
     ]
    }
   ],
   "source": [
    " unique_values = d_s['drug_group'].unique()\n",
    " print(unique_values)"
   ]
  },
  {
   "cell_type": "code",
   "execution_count": 10,
   "id": "93f2ba59",
   "metadata": {},
   "outputs": [
    {
     "name": "stdout",
     "output_type": "stream",
     "text": [
      "                  country                                         drug_group  \\\n",
      "68    Trinidad and Tobago  Cannabis-type drugs (excluding synthetic canna...   \n",
      "69    Trinidad and Tobago  Cannabis-type drugs (excluding synthetic canna...   \n",
      "1388              Uruguay      Amphetamine-type stimulants excluding ecstasy   \n",
      "1397              Uruguay                                      Hallucinogens   \n",
      "2351           Luxembourg                            Ecstasy type substances   \n",
      "2353           Luxembourg                         Any other drugs/substances   \n",
      "2354           Luxembourg                         Any other drugs/substances   \n",
      "2355           Luxembourg                         Any other drugs/substances   \n",
      "2357           Luxembourg                         Any other drugs/substances   \n",
      "2358           Luxembourg                         Any other drugs/substances   \n",
      "2360           Luxembourg                         Any other drugs/substances   \n",
      "2362           Luxembourg                         Any other drugs/substances   \n",
      "2364           Luxembourg                         Any other drugs/substances   \n",
      "2370           Luxembourg  Cannabis-type drugs (excluding synthetic canna...   \n",
      "2371           Luxembourg  Cannabis-type drugs (excluding synthetic canna...   \n",
      "2372           Luxembourg  Cannabis-type drugs (excluding synthetic canna...   \n",
      "2378           Luxembourg                                       Cocaine-type   \n",
      "2384           Luxembourg                                            Opioids   \n",
      "2385           Luxembourg                       Sedatives and tranquillizers   \n",
      "2386           Luxembourg                       Sedatives and tranquillizers   \n",
      "2387           Luxembourg                       Sedatives and tranquillizers   \n",
      "2388           Luxembourg                       Sedatives and tranquillizers   \n",
      "2389           Luxembourg                       Sedatives and tranquillizers   \n",
      "2390           Luxembourg                       Sedatives and tranquillizers   \n",
      "2894                Spain                                            Opioids   \n",
      "\n",
      "      year   kg  \n",
      "68    2020  NaN  \n",
      "69    2020  NaN  \n",
      "1388  2020  NaN  \n",
      "1397  2020  NaN  \n",
      "2351  2021  NaN  \n",
      "2353  2021  NaN  \n",
      "2354  2021  NaN  \n",
      "2355  2021  NaN  \n",
      "2357  2021  NaN  \n",
      "2358  2021  NaN  \n",
      "2360  2021  NaN  \n",
      "2362  2021  NaN  \n",
      "2364  2021  NaN  \n",
      "2370  2021  NaN  \n",
      "2371  2021  NaN  \n",
      "2372  2021  NaN  \n",
      "2378  2021  NaN  \n",
      "2384  2021  NaN  \n",
      "2385  2021  NaN  \n",
      "2386  2021  NaN  \n",
      "2387  2021  NaN  \n",
      "2388  2021  NaN  \n",
      "2389  2021  NaN  \n",
      "2390  2021  NaN  \n",
      "2894  2021  NaN  \n"
     ]
    }
   ],
   "source": [
    "null_rows = d_s[d_s['kg'].isnull()]\n",
    "\n",
    "print(null_rows)"
   ]
  },
  {
   "cell_type": "code",
   "execution_count": 11,
   "id": "13c3580b",
   "metadata": {},
   "outputs": [],
   "source": [
    "d_s.dropna(subset=['kg'], inplace=True)"
   ]
  },
  {
   "cell_type": "code",
   "execution_count": 12,
   "id": "cd9caa87",
   "metadata": {},
   "outputs": [],
   "source": [
    "d_s['drug_group'] = d_s['drug_group'].str.lower()"
   ]
  },
  {
   "cell_type": "code",
   "execution_count": 13,
   "id": "3eea55c4",
   "metadata": {},
   "outputs": [
    {
     "data": {
      "text/html": [
       "<div>\n",
       "<style scoped>\n",
       "    .dataframe tbody tr th:only-of-type {\n",
       "        vertical-align: middle;\n",
       "    }\n",
       "\n",
       "    .dataframe tbody tr th {\n",
       "        vertical-align: top;\n",
       "    }\n",
       "\n",
       "    .dataframe thead th {\n",
       "        text-align: right;\n",
       "    }\n",
       "</style>\n",
       "<table border=\"1\" class=\"dataframe\">\n",
       "  <thead>\n",
       "    <tr style=\"text-align: right;\">\n",
       "      <th></th>\n",
       "      <th>country</th>\n",
       "      <th>drug_group</th>\n",
       "      <th>year</th>\n",
       "      <th>kg</th>\n",
       "    </tr>\n",
       "  </thead>\n",
       "  <tbody>\n",
       "    <tr>\n",
       "      <th>0</th>\n",
       "      <td>South Africa</td>\n",
       "      <td>ecstasy type substances</td>\n",
       "      <td>2021</td>\n",
       "      <td>1,00</td>\n",
       "    </tr>\n",
       "    <tr>\n",
       "      <th>1</th>\n",
       "      <td>South Africa</td>\n",
       "      <td>ecstasy type substances</td>\n",
       "      <td>2021</td>\n",
       "      <td>0,00</td>\n",
       "    </tr>\n",
       "    <tr>\n",
       "      <th>2</th>\n",
       "      <td>South Africa</td>\n",
       "      <td>ecstasy type substances</td>\n",
       "      <td>2021</td>\n",
       "      <td>0,10</td>\n",
       "    </tr>\n",
       "    <tr>\n",
       "      <th>3</th>\n",
       "      <td>South Africa</td>\n",
       "      <td>amphetamine-type stimulants excluding ecstasy</td>\n",
       "      <td>2021</td>\n",
       "      <td>20,00</td>\n",
       "    </tr>\n",
       "    <tr>\n",
       "      <th>4</th>\n",
       "      <td>South Africa</td>\n",
       "      <td>amphetamine-type stimulants excluding ecstasy</td>\n",
       "      <td>2021</td>\n",
       "      <td>459,91</td>\n",
       "    </tr>\n",
       "  </tbody>\n",
       "</table>\n",
       "</div>"
      ],
      "text/plain": [
       "        country                                     drug_group  year      kg\n",
       "0  South Africa                        ecstasy type substances  2021    1,00\n",
       "1  South Africa                        ecstasy type substances  2021    0,00\n",
       "2  South Africa                        ecstasy type substances  2021    0,10\n",
       "3  South Africa  amphetamine-type stimulants excluding ecstasy  2021   20,00\n",
       "4  South Africa  amphetamine-type stimulants excluding ecstasy  2021  459,91"
      ]
     },
     "execution_count": 13,
     "metadata": {},
     "output_type": "execute_result"
    }
   ],
   "source": [
    "d_s.head()"
   ]
  },
  {
   "cell_type": "code",
   "execution_count": 14,
   "id": "273179a2",
   "metadata": {},
   "outputs": [
    {
     "data": {
      "text/html": [
       "<div>\n",
       "<style scoped>\n",
       "    .dataframe tbody tr th:only-of-type {\n",
       "        vertical-align: middle;\n",
       "    }\n",
       "\n",
       "    .dataframe tbody tr th {\n",
       "        vertical-align: top;\n",
       "    }\n",
       "\n",
       "    .dataframe thead th {\n",
       "        text-align: right;\n",
       "    }\n",
       "</style>\n",
       "<table border=\"1\" class=\"dataframe\">\n",
       "  <thead>\n",
       "    <tr style=\"text-align: right;\">\n",
       "      <th></th>\n",
       "      <th>country</th>\n",
       "      <th>drug_group</th>\n",
       "      <th>year</th>\n",
       "      <th>kg</th>\n",
       "    </tr>\n",
       "  </thead>\n",
       "  <tbody>\n",
       "    <tr>\n",
       "      <th>0</th>\n",
       "      <td>South Africa</td>\n",
       "      <td>ecstasy type substances</td>\n",
       "      <td>2021</td>\n",
       "      <td>100</td>\n",
       "    </tr>\n",
       "    <tr>\n",
       "      <th>1</th>\n",
       "      <td>South Africa</td>\n",
       "      <td>ecstasy type substances</td>\n",
       "      <td>2021</td>\n",
       "      <td>000</td>\n",
       "    </tr>\n",
       "    <tr>\n",
       "      <th>2</th>\n",
       "      <td>South Africa</td>\n",
       "      <td>ecstasy type substances</td>\n",
       "      <td>2021</td>\n",
       "      <td>010</td>\n",
       "    </tr>\n",
       "    <tr>\n",
       "      <th>3</th>\n",
       "      <td>South Africa</td>\n",
       "      <td>amphetaminetype stimulants excluding ecstasy</td>\n",
       "      <td>2021</td>\n",
       "      <td>2000</td>\n",
       "    </tr>\n",
       "    <tr>\n",
       "      <th>4</th>\n",
       "      <td>South Africa</td>\n",
       "      <td>amphetaminetype stimulants excluding ecstasy</td>\n",
       "      <td>2021</td>\n",
       "      <td>45991</td>\n",
       "    </tr>\n",
       "  </tbody>\n",
       "</table>\n",
       "</div>"
      ],
      "text/plain": [
       "        country                                    drug_group  year     kg\n",
       "0  South Africa                       ecstasy type substances  2021    100\n",
       "1  South Africa                       ecstasy type substances  2021    000\n",
       "2  South Africa                       ecstasy type substances  2021    010\n",
       "3  South Africa  amphetaminetype stimulants excluding ecstasy  2021   2000\n",
       "4  South Africa  amphetaminetype stimulants excluding ecstasy  2021  45991"
      ]
     },
     "execution_count": 14,
     "metadata": {},
     "output_type": "execute_result"
    }
   ],
   "source": [
    "d_s = d_s.applymap(lambda x: re.sub(r'[^\\w\\s]', '', str(x)))\n",
    "d_s.head()"
   ]
  },
  {
   "cell_type": "code",
   "execution_count": 15,
   "id": "d9297746",
   "metadata": {},
   "outputs": [
    {
     "data": {
      "text/html": [
       "<div>\n",
       "<style scoped>\n",
       "    .dataframe tbody tr th:only-of-type {\n",
       "        vertical-align: middle;\n",
       "    }\n",
       "\n",
       "    .dataframe tbody tr th {\n",
       "        vertical-align: top;\n",
       "    }\n",
       "\n",
       "    .dataframe thead th {\n",
       "        text-align: right;\n",
       "    }\n",
       "</style>\n",
       "<table border=\"1\" class=\"dataframe\">\n",
       "  <thead>\n",
       "    <tr style=\"text-align: right;\">\n",
       "      <th></th>\n",
       "      <th>country</th>\n",
       "      <th>drug_group</th>\n",
       "      <th>year</th>\n",
       "      <th>kg</th>\n",
       "    </tr>\n",
       "  </thead>\n",
       "  <tbody>\n",
       "    <tr>\n",
       "      <th>0</th>\n",
       "      <td>South Africa</td>\n",
       "      <td>ecstasy</td>\n",
       "      <td>2021</td>\n",
       "      <td>100</td>\n",
       "    </tr>\n",
       "    <tr>\n",
       "      <th>1</th>\n",
       "      <td>South Africa</td>\n",
       "      <td>ecstasy</td>\n",
       "      <td>2021</td>\n",
       "      <td>000</td>\n",
       "    </tr>\n",
       "    <tr>\n",
       "      <th>2</th>\n",
       "      <td>South Africa</td>\n",
       "      <td>ecstasy</td>\n",
       "      <td>2021</td>\n",
       "      <td>010</td>\n",
       "    </tr>\n",
       "    <tr>\n",
       "      <th>3</th>\n",
       "      <td>South Africa</td>\n",
       "      <td>amphetaminetype</td>\n",
       "      <td>2021</td>\n",
       "      <td>2000</td>\n",
       "    </tr>\n",
       "    <tr>\n",
       "      <th>4</th>\n",
       "      <td>South Africa</td>\n",
       "      <td>amphetaminetype</td>\n",
       "      <td>2021</td>\n",
       "      <td>45991</td>\n",
       "    </tr>\n",
       "  </tbody>\n",
       "</table>\n",
       "</div>"
      ],
      "text/plain": [
       "        country       drug_group  year     kg\n",
       "0  South Africa          ecstasy  2021    100\n",
       "1  South Africa          ecstasy  2021    000\n",
       "2  South Africa          ecstasy  2021    010\n",
       "3  South Africa  amphetaminetype  2021   2000\n",
       "4  South Africa  amphetaminetype  2021  45991"
      ]
     },
     "execution_count": 15,
     "metadata": {},
     "output_type": "execute_result"
    }
   ],
   "source": [
    "d_s['drug_group'] = d_s['drug_group'].str.split().str[0]\n",
    "d_s.head()"
   ]
  },
  {
   "cell_type": "code",
   "execution_count": 16,
   "id": "ea626bf4",
   "metadata": {},
   "outputs": [
    {
     "data": {
      "text/plain": [
       "(3635, 4)"
      ]
     },
     "execution_count": 16,
     "metadata": {},
     "output_type": "execute_result"
    }
   ],
   "source": [
    "d_s.shape"
   ]
  },
  {
   "cell_type": "code",
   "execution_count": 17,
   "id": "1cc60577",
   "metadata": {},
   "outputs": [
    {
     "data": {
      "text/html": [
       "<div>\n",
       "<style scoped>\n",
       "    .dataframe tbody tr th:only-of-type {\n",
       "        vertical-align: middle;\n",
       "    }\n",
       "\n",
       "    .dataframe tbody tr th {\n",
       "        vertical-align: top;\n",
       "    }\n",
       "\n",
       "    .dataframe thead th {\n",
       "        text-align: right;\n",
       "    }\n",
       "</style>\n",
       "<table border=\"1\" class=\"dataframe\">\n",
       "  <thead>\n",
       "    <tr style=\"text-align: right;\">\n",
       "      <th></th>\n",
       "      <th>country</th>\n",
       "      <th>drug_group</th>\n",
       "      <th>year</th>\n",
       "      <th>kg</th>\n",
       "    </tr>\n",
       "  </thead>\n",
       "  <tbody>\n",
       "    <tr>\n",
       "      <th>0</th>\n",
       "      <td>South Africa</td>\n",
       "      <td>ecstasy</td>\n",
       "      <td>2021</td>\n",
       "      <td>100</td>\n",
       "    </tr>\n",
       "    <tr>\n",
       "      <th>2</th>\n",
       "      <td>South Africa</td>\n",
       "      <td>ecstasy</td>\n",
       "      <td>2021</td>\n",
       "      <td>010</td>\n",
       "    </tr>\n",
       "    <tr>\n",
       "      <th>3</th>\n",
       "      <td>South Africa</td>\n",
       "      <td>amphetaminetype</td>\n",
       "      <td>2021</td>\n",
       "      <td>2000</td>\n",
       "    </tr>\n",
       "    <tr>\n",
       "      <th>4</th>\n",
       "      <td>South Africa</td>\n",
       "      <td>amphetaminetype</td>\n",
       "      <td>2021</td>\n",
       "      <td>45991</td>\n",
       "    </tr>\n",
       "    <tr>\n",
       "      <th>5</th>\n",
       "      <td>South Africa</td>\n",
       "      <td>amphetaminetype</td>\n",
       "      <td>2021</td>\n",
       "      <td>600</td>\n",
       "    </tr>\n",
       "    <tr>\n",
       "      <th>6</th>\n",
       "      <td>South Africa</td>\n",
       "      <td>cannabistype</td>\n",
       "      <td>2021</td>\n",
       "      <td>6978</td>\n",
       "    </tr>\n",
       "    <tr>\n",
       "      <th>7</th>\n",
       "      <td>South Africa</td>\n",
       "      <td>cannabistype</td>\n",
       "      <td>2021</td>\n",
       "      <td>1000</td>\n",
       "    </tr>\n",
       "    <tr>\n",
       "      <th>8</th>\n",
       "      <td>South Africa</td>\n",
       "      <td>cannabistype</td>\n",
       "      <td>2021</td>\n",
       "      <td>34460</td>\n",
       "    </tr>\n",
       "    <tr>\n",
       "      <th>9</th>\n",
       "      <td>South Africa</td>\n",
       "      <td>cocainetype</td>\n",
       "      <td>2021</td>\n",
       "      <td>034</td>\n",
       "    </tr>\n",
       "    <tr>\n",
       "      <th>10</th>\n",
       "      <td>South Africa</td>\n",
       "      <td>cocainetype</td>\n",
       "      <td>2021</td>\n",
       "      <td>528679</td>\n",
       "    </tr>\n",
       "    <tr>\n",
       "      <th>11</th>\n",
       "      <td>South Africa</td>\n",
       "      <td>hallucinogens</td>\n",
       "      <td>2021</td>\n",
       "      <td>10000</td>\n",
       "    </tr>\n",
       "    <tr>\n",
       "      <th>12</th>\n",
       "      <td>South Africa</td>\n",
       "      <td>nps</td>\n",
       "      <td>2021</td>\n",
       "      <td>25868</td>\n",
       "    </tr>\n",
       "    <tr>\n",
       "      <th>13</th>\n",
       "      <td>South Africa</td>\n",
       "      <td>opioids</td>\n",
       "      <td>2021</td>\n",
       "      <td>15826</td>\n",
       "    </tr>\n",
       "    <tr>\n",
       "      <th>14</th>\n",
       "      <td>South Africa</td>\n",
       "      <td>opioids</td>\n",
       "      <td>2021</td>\n",
       "      <td>150</td>\n",
       "    </tr>\n",
       "    <tr>\n",
       "      <th>15</th>\n",
       "      <td>South Africa</td>\n",
       "      <td>sedatives</td>\n",
       "      <td>2021</td>\n",
       "      <td>30900</td>\n",
       "    </tr>\n",
       "    <tr>\n",
       "      <th>16</th>\n",
       "      <td>South Africa</td>\n",
       "      <td>sedatives</td>\n",
       "      <td>2021</td>\n",
       "      <td>4977</td>\n",
       "    </tr>\n",
       "    <tr>\n",
       "      <th>17</th>\n",
       "      <td>South Africa</td>\n",
       "      <td>ecstasy</td>\n",
       "      <td>2020</td>\n",
       "      <td>016</td>\n",
       "    </tr>\n",
       "    <tr>\n",
       "      <th>18</th>\n",
       "      <td>South Africa</td>\n",
       "      <td>cannabistype</td>\n",
       "      <td>2020</td>\n",
       "      <td>325134</td>\n",
       "    </tr>\n",
       "    <tr>\n",
       "      <th>19</th>\n",
       "      <td>South Africa</td>\n",
       "      <td>cannabistype</td>\n",
       "      <td>2020</td>\n",
       "      <td>7600</td>\n",
       "    </tr>\n",
       "    <tr>\n",
       "      <th>20</th>\n",
       "      <td>South Africa</td>\n",
       "      <td>cannabistype</td>\n",
       "      <td>2020</td>\n",
       "      <td>1245</td>\n",
       "    </tr>\n",
       "  </tbody>\n",
       "</table>\n",
       "</div>"
      ],
      "text/plain": [
       "         country       drug_group  year      kg\n",
       "0   South Africa          ecstasy  2021     100\n",
       "2   South Africa          ecstasy  2021     010\n",
       "3   South Africa  amphetaminetype  2021    2000\n",
       "4   South Africa  amphetaminetype  2021   45991\n",
       "5   South Africa  amphetaminetype  2021     600\n",
       "6   South Africa     cannabistype  2021    6978\n",
       "7   South Africa     cannabistype  2021    1000\n",
       "8   South Africa     cannabistype  2021   34460\n",
       "9   South Africa      cocainetype  2021     034\n",
       "10  South Africa      cocainetype  2021  528679\n",
       "11  South Africa    hallucinogens  2021   10000\n",
       "12  South Africa              nps  2021   25868\n",
       "13  South Africa          opioids  2021   15826\n",
       "14  South Africa          opioids  2021     150\n",
       "15  South Africa        sedatives  2021   30900\n",
       "16  South Africa        sedatives  2021    4977\n",
       "17  South Africa          ecstasy  2020     016\n",
       "18  South Africa     cannabistype  2020  325134\n",
       "19  South Africa     cannabistype  2020    7600\n",
       "20  South Africa     cannabistype  2020    1245"
      ]
     },
     "execution_count": 17,
     "metadata": {},
     "output_type": "execute_result"
    }
   ],
   "source": [
    "d_s = d_s[~d_s['kg'].str.contains('^0{1,3}$')]\n",
    "d_s.head(20)"
   ]
  },
  {
   "cell_type": "code",
   "execution_count": 18,
   "id": "b830ff97",
   "metadata": {},
   "outputs": [
    {
     "data": {
      "text/html": [
       "<div>\n",
       "<style scoped>\n",
       "    .dataframe tbody tr th:only-of-type {\n",
       "        vertical-align: middle;\n",
       "    }\n",
       "\n",
       "    .dataframe tbody tr th {\n",
       "        vertical-align: top;\n",
       "    }\n",
       "\n",
       "    .dataframe thead th {\n",
       "        text-align: right;\n",
       "    }\n",
       "</style>\n",
       "<table border=\"1\" class=\"dataframe\">\n",
       "  <thead>\n",
       "    <tr style=\"text-align: right;\">\n",
       "      <th></th>\n",
       "      <th>drug_id</th>\n",
       "      <th>country</th>\n",
       "      <th>drug_group</th>\n",
       "      <th>year</th>\n",
       "      <th>kg</th>\n",
       "    </tr>\n",
       "  </thead>\n",
       "  <tbody>\n",
       "    <tr>\n",
       "      <th>0</th>\n",
       "      <td>1</td>\n",
       "      <td>South Africa</td>\n",
       "      <td>ecstasy</td>\n",
       "      <td>2021</td>\n",
       "      <td>100</td>\n",
       "    </tr>\n",
       "    <tr>\n",
       "      <th>2</th>\n",
       "      <td>2</td>\n",
       "      <td>South Africa</td>\n",
       "      <td>ecstasy</td>\n",
       "      <td>2021</td>\n",
       "      <td>010</td>\n",
       "    </tr>\n",
       "    <tr>\n",
       "      <th>3</th>\n",
       "      <td>3</td>\n",
       "      <td>South Africa</td>\n",
       "      <td>amphetaminetype</td>\n",
       "      <td>2021</td>\n",
       "      <td>2000</td>\n",
       "    </tr>\n",
       "    <tr>\n",
       "      <th>4</th>\n",
       "      <td>4</td>\n",
       "      <td>South Africa</td>\n",
       "      <td>amphetaminetype</td>\n",
       "      <td>2021</td>\n",
       "      <td>45991</td>\n",
       "    </tr>\n",
       "    <tr>\n",
       "      <th>5</th>\n",
       "      <td>5</td>\n",
       "      <td>South Africa</td>\n",
       "      <td>amphetaminetype</td>\n",
       "      <td>2021</td>\n",
       "      <td>600</td>\n",
       "    </tr>\n",
       "  </tbody>\n",
       "</table>\n",
       "</div>"
      ],
      "text/plain": [
       "   drug_id       country       drug_group  year     kg\n",
       "0        1  South Africa          ecstasy  2021    100\n",
       "2        2  South Africa          ecstasy  2021    010\n",
       "3        3  South Africa  amphetaminetype  2021   2000\n",
       "4        4  South Africa  amphetaminetype  2021  45991\n",
       "5        5  South Africa  amphetaminetype  2021    600"
      ]
     },
     "execution_count": 18,
     "metadata": {},
     "output_type": "execute_result"
    }
   ],
   "source": [
    "start = 1\n",
    "\n",
    "d_s.insert(0, 'drug_id', range(start, start + len(d_s)))\n",
    "d_s.head()"
   ]
  },
  {
   "cell_type": "code",
   "execution_count": 19,
   "id": "a21124fe",
   "metadata": {},
   "outputs": [],
   "source": [
    "d_s.to_csv('drug_seizure.csv', index=False)"
   ]
  },
  {
   "cell_type": "code",
   "execution_count": 20,
   "id": "765e9930",
   "metadata": {},
   "outputs": [
    {
     "data": {
      "text/plain": [
       "(2463, 4)"
      ]
     },
     "execution_count": 20,
     "metadata": {},
     "output_type": "execute_result"
    }
   ],
   "source": [
    "d_s = d_s.drop('drug_id', axis=1)\n",
    "d_s.shape"
   ]
  },
  {
   "cell_type": "code",
   "execution_count": 21,
   "id": "72924e5e",
   "metadata": {},
   "outputs": [
    {
     "data": {
      "text/plain": [
       "(2314, 4)"
      ]
     },
     "execution_count": 21,
     "metadata": {},
     "output_type": "execute_result"
    }
   ],
   "source": [
    "d_s = d_s.drop_duplicates()\n",
    "\n",
    "d_s.shape"
   ]
  },
  {
   "cell_type": "code",
   "execution_count": 22,
   "id": "a00919e4",
   "metadata": {},
   "outputs": [
    {
     "data": {
      "text/html": [
       "<div>\n",
       "<style scoped>\n",
       "    .dataframe tbody tr th:only-of-type {\n",
       "        vertical-align: middle;\n",
       "    }\n",
       "\n",
       "    .dataframe tbody tr th {\n",
       "        vertical-align: top;\n",
       "    }\n",
       "\n",
       "    .dataframe thead th {\n",
       "        text-align: right;\n",
       "    }\n",
       "</style>\n",
       "<table border=\"1\" class=\"dataframe\">\n",
       "  <thead>\n",
       "    <tr style=\"text-align: right;\">\n",
       "      <th></th>\n",
       "      <th>drug_id</th>\n",
       "      <th>country</th>\n",
       "      <th>drug_group</th>\n",
       "      <th>year</th>\n",
       "      <th>kg</th>\n",
       "    </tr>\n",
       "  </thead>\n",
       "  <tbody>\n",
       "    <tr>\n",
       "      <th>0</th>\n",
       "      <td>1</td>\n",
       "      <td>South Africa</td>\n",
       "      <td>ecstasy</td>\n",
       "      <td>2021</td>\n",
       "      <td>100</td>\n",
       "    </tr>\n",
       "    <tr>\n",
       "      <th>2</th>\n",
       "      <td>2</td>\n",
       "      <td>South Africa</td>\n",
       "      <td>ecstasy</td>\n",
       "      <td>2021</td>\n",
       "      <td>010</td>\n",
       "    </tr>\n",
       "    <tr>\n",
       "      <th>3</th>\n",
       "      <td>3</td>\n",
       "      <td>South Africa</td>\n",
       "      <td>amphetaminetype</td>\n",
       "      <td>2021</td>\n",
       "      <td>2000</td>\n",
       "    </tr>\n",
       "    <tr>\n",
       "      <th>4</th>\n",
       "      <td>4</td>\n",
       "      <td>South Africa</td>\n",
       "      <td>amphetaminetype</td>\n",
       "      <td>2021</td>\n",
       "      <td>45991</td>\n",
       "    </tr>\n",
       "    <tr>\n",
       "      <th>5</th>\n",
       "      <td>5</td>\n",
       "      <td>South Africa</td>\n",
       "      <td>amphetaminetype</td>\n",
       "      <td>2021</td>\n",
       "      <td>600</td>\n",
       "    </tr>\n",
       "  </tbody>\n",
       "</table>\n",
       "</div>"
      ],
      "text/plain": [
       "   drug_id       country       drug_group  year     kg\n",
       "0        1  South Africa          ecstasy  2021    100\n",
       "2        2  South Africa          ecstasy  2021    010\n",
       "3        3  South Africa  amphetaminetype  2021   2000\n",
       "4        4  South Africa  amphetaminetype  2021  45991\n",
       "5        5  South Africa  amphetaminetype  2021    600"
      ]
     },
     "execution_count": 22,
     "metadata": {},
     "output_type": "execute_result"
    }
   ],
   "source": [
    "start = 1\n",
    "\n",
    "d_s.insert(0, 'drug_id', range(start, start + len(d_s)))\n",
    "d_s.head()"
   ]
  },
  {
   "cell_type": "code",
   "execution_count": null,
   "id": "f3799eb1",
   "metadata": {},
   "outputs": [],
   "source": []
  },
  {
   "cell_type": "code",
   "execution_count": 23,
   "id": "e36405bf",
   "metadata": {},
   "outputs": [
    {
     "name": "stdout",
     "output_type": "stream",
     "text": [
      "['100' '010' '2000' ... '26400' '533300' '126000']\n"
     ]
    }
   ],
   "source": [
    " unique_values = d_s['kg'].unique()\n",
    " print(unique_values)"
   ]
  },
  {
   "cell_type": "code",
   "execution_count": 24,
   "id": "b3fb654d",
   "metadata": {},
   "outputs": [
    {
     "data": {
      "text/html": [
       "<div>\n",
       "<style scoped>\n",
       "    .dataframe tbody tr th:only-of-type {\n",
       "        vertical-align: middle;\n",
       "    }\n",
       "\n",
       "    .dataframe tbody tr th {\n",
       "        vertical-align: top;\n",
       "    }\n",
       "\n",
       "    .dataframe thead th {\n",
       "        text-align: right;\n",
       "    }\n",
       "</style>\n",
       "<table border=\"1\" class=\"dataframe\">\n",
       "  <thead>\n",
       "    <tr style=\"text-align: right;\">\n",
       "      <th></th>\n",
       "      <th>drug_id</th>\n",
       "      <th>country</th>\n",
       "      <th>drug_group</th>\n",
       "      <th>year</th>\n",
       "      <th>kg</th>\n",
       "    </tr>\n",
       "  </thead>\n",
       "  <tbody>\n",
       "    <tr>\n",
       "      <th>0</th>\n",
       "      <td>1</td>\n",
       "      <td>South Africa</td>\n",
       "      <td>ecstasy</td>\n",
       "      <td>2021</td>\n",
       "      <td>100</td>\n",
       "    </tr>\n",
       "    <tr>\n",
       "      <th>2</th>\n",
       "      <td>2</td>\n",
       "      <td>South Africa</td>\n",
       "      <td>ecstasy</td>\n",
       "      <td>2021</td>\n",
       "      <td>10</td>\n",
       "    </tr>\n",
       "    <tr>\n",
       "      <th>3</th>\n",
       "      <td>3</td>\n",
       "      <td>South Africa</td>\n",
       "      <td>amphetaminetype</td>\n",
       "      <td>2021</td>\n",
       "      <td>2000</td>\n",
       "    </tr>\n",
       "    <tr>\n",
       "      <th>4</th>\n",
       "      <td>4</td>\n",
       "      <td>South Africa</td>\n",
       "      <td>amphetaminetype</td>\n",
       "      <td>2021</td>\n",
       "      <td>45991</td>\n",
       "    </tr>\n",
       "    <tr>\n",
       "      <th>5</th>\n",
       "      <td>5</td>\n",
       "      <td>South Africa</td>\n",
       "      <td>amphetaminetype</td>\n",
       "      <td>2021</td>\n",
       "      <td>600</td>\n",
       "    </tr>\n",
       "  </tbody>\n",
       "</table>\n",
       "</div>"
      ],
      "text/plain": [
       "   drug_id       country       drug_group  year     kg\n",
       "0        1  South Africa          ecstasy  2021    100\n",
       "2        2  South Africa          ecstasy  2021     10\n",
       "3        3  South Africa  amphetaminetype  2021   2000\n",
       "4        4  South Africa  amphetaminetype  2021  45991\n",
       "5        5  South Africa  amphetaminetype  2021    600"
      ]
     },
     "execution_count": 24,
     "metadata": {},
     "output_type": "execute_result"
    }
   ],
   "source": [
    "d_s['kg'] = d_s['kg'].astype(int)\n",
    "d_s.head()"
   ]
  },
  {
   "cell_type": "code",
   "execution_count": 25,
   "id": "ca48b1d0",
   "metadata": {},
   "outputs": [],
   "source": [
    "d_s.to_csv('drug_seizure.csv', index=False)"
   ]
  },
  {
   "cell_type": "code",
   "execution_count": null,
   "id": "67723db2",
   "metadata": {},
   "outputs": [],
   "source": []
  }
 ],
 "metadata": {
  "kernelspec": {
   "display_name": "Python 3 (ipykernel)",
   "language": "python",
   "name": "python3"
  },
  "language_info": {
   "codemirror_mode": {
    "name": "ipython",
    "version": 3
   },
   "file_extension": ".py",
   "mimetype": "text/x-python",
   "name": "python",
   "nbconvert_exporter": "python",
   "pygments_lexer": "ipython3",
   "version": "3.10.9"
  }
 },
 "nbformat": 4,
 "nbformat_minor": 5
}
