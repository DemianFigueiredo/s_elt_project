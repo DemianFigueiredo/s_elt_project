{
 "cells": [
  {
   "cell_type": "code",
   "execution_count": 24,
   "id": "b87686f3",
   "metadata": {},
   "outputs": [],
   "source": [
    "import pandas as pd\n",
    "import re\n",
    "\n",
    "# treatment_drug.csv"
   ]
  },
  {
   "cell_type": "code",
   "execution_count": 26,
   "id": "44f294bd",
   "metadata": {},
   "outputs": [],
   "source": [
    "s = '../data/treatment_drug.csv'\n",
    "\n",
    "\n",
    "treat = pd.read_csv(s, delimiter=';')\n",
    "\n",
    "\n",
    "pd.set_option('display.max_columns', None)\n",
    "\n"
   ]
  },
  {
   "cell_type": "code",
   "execution_count": 27,
   "id": "a8a6a77f",
   "metadata": {},
   "outputs": [
    {
     "data": {
      "text/html": [
       "<div>\n",
       "<style scoped>\n",
       "    .dataframe tbody tr th:only-of-type {\n",
       "        vertical-align: middle;\n",
       "    }\n",
       "\n",
       "    .dataframe tbody tr th {\n",
       "        vertical-align: top;\n",
       "    }\n",
       "\n",
       "    .dataframe thead th {\n",
       "        text-align: right;\n",
       "    }\n",
       "</style>\n",
       "<table border=\"1\" class=\"dataframe\">\n",
       "  <thead>\n",
       "    <tr style=\"text-align: right;\">\n",
       "      <th></th>\n",
       "      <th>country</th>\n",
       "      <th>year</th>\n",
       "      <th>count</th>\n",
       "    </tr>\n",
       "  </thead>\n",
       "  <tbody>\n",
       "    <tr>\n",
       "      <th>0</th>\n",
       "      <td>South Africa</td>\n",
       "      <td>2020</td>\n",
       "      <td>13417</td>\n",
       "    </tr>\n",
       "    <tr>\n",
       "      <th>1</th>\n",
       "      <td>South Africa</td>\n",
       "      <td>2018</td>\n",
       "      <td>17881</td>\n",
       "    </tr>\n",
       "    <tr>\n",
       "      <th>2</th>\n",
       "      <td>South Africa</td>\n",
       "      <td>2017</td>\n",
       "      <td>19492</td>\n",
       "    </tr>\n",
       "    <tr>\n",
       "      <th>3</th>\n",
       "      <td>Antigua and Barbuda</td>\n",
       "      <td>2021</td>\n",
       "      <td>11</td>\n",
       "    </tr>\n",
       "    <tr>\n",
       "      <th>4</th>\n",
       "      <td>Jamaica</td>\n",
       "      <td>2013</td>\n",
       "      <td>94</td>\n",
       "    </tr>\n",
       "  </tbody>\n",
       "</table>\n",
       "</div>"
      ],
      "text/plain": [
       "               country  year  count\n",
       "0         South Africa  2020  13417\n",
       "1         South Africa  2018  17881\n",
       "2         South Africa  2017  19492\n",
       "3  Antigua and Barbuda  2021     11\n",
       "4              Jamaica  2013     94"
      ]
     },
     "execution_count": 27,
     "metadata": {},
     "output_type": "execute_result"
    }
   ],
   "source": [
    "treat.head()"
   ]
  },
  {
   "cell_type": "code",
   "execution_count": 28,
   "id": "e84331db",
   "metadata": {},
   "outputs": [
    {
     "data": {
      "text/plain": [
       "(73, 3)"
      ]
     },
     "execution_count": 28,
     "metadata": {},
     "output_type": "execute_result"
    }
   ],
   "source": [
    "treat.shape"
   ]
  },
  {
   "cell_type": "code",
   "execution_count": 30,
   "id": "7441804d",
   "metadata": {},
   "outputs": [
    {
     "name": "stdout",
     "output_type": "stream",
     "text": [
      "<class 'pandas.core.frame.DataFrame'>\n",
      "RangeIndex: 73 entries, 0 to 72\n",
      "Data columns (total 3 columns):\n",
      " #   Column   Non-Null Count  Dtype \n",
      "---  ------   --------------  ----- \n",
      " 0   country  73 non-null     object\n",
      " 1   year     73 non-null     int64 \n",
      " 2   count    73 non-null     int64 \n",
      "dtypes: int64(2), object(1)\n",
      "memory usage: 5.9 KB\n"
     ]
    }
   ],
   "source": [
    "treat.info(memory_usage='deep')"
   ]
  },
  {
   "cell_type": "code",
   "execution_count": 33,
   "id": "d9224b51",
   "metadata": {},
   "outputs": [
    {
     "name": "stdout",
     "output_type": "stream",
     "text": [
      "['South Africa' 'Antigua and Barbuda' 'Jamaica' 'Costa Rica' 'Mexico'\n",
      " 'Argentina' 'Chile' 'Colombia' 'Ecuador' 'Uruguay' 'Thailand' 'Croatia'\n",
      " 'Austria' 'Belgium' 'Czechia' 'Italy' 'Luxembourg' 'Malta' 'Portugal'\n",
      " 'Slovenia' 'Spain' 'Australia']\n"
     ]
    }
   ],
   "source": [
    " unique_values = treat['country'].unique()\n",
    " print(unique_values)"
   ]
  },
  {
   "cell_type": "code",
   "execution_count": 34,
   "id": "568b1704",
   "metadata": {},
   "outputs": [],
   "source": [
    "list = ['Antigua and Barbuda', 'Argentina', 'Australia', 'Austria', 'Belgium', 'Belize', 'Bermuda', 'Canada', 'Chile', 'Colombia', 'Costa Rica', 'Croatia', 'Czech Republic', 'Dominica', 'Ecuador', 'Israel', 'Italy', 'Jamaica', 'Luxembourg', 'Malta', 'Mexico', 'Portugal', 'Slovenia', 'South Africa', 'Spain', 'Switzerland', 'Thailand', 'Trinidad and Tobago', 'Uruguay']"
   ]
  },
  {
   "cell_type": "code",
   "execution_count": 35,
   "id": "08556e08",
   "metadata": {},
   "outputs": [
    {
     "name": "stdout",
     "output_type": "stream",
     "text": [
      "['Czechia']\n"
     ]
    }
   ],
   "source": [
    "non_duplicate_values = treat.loc[~treat['country'].isin(list), 'country'].unique()\n",
    "print(non_duplicate_values)"
   ]
  },
  {
   "cell_type": "code",
   "execution_count": 37,
   "id": "4cba4973",
   "metadata": {},
   "outputs": [
    {
     "name": "stdout",
     "output_type": "stream",
     "text": [
      "[ 13417  17881  19492     11     94  38630  16844  23285  10499  96772\n",
      "  71949 121228  92458  77681  50266  16497  15517  20467  21294  20807\n",
      "   9175   5448   4778   4275  53609 110970   2730   2204   2567   2285\n",
      "   1786 227126   5378   5478   6831   7241   4531   5056   4830   4414\n",
      "  11991  11017  11014  11066   7006   4386   7509   4775 123871 125428\n",
      " 136320 133060 129956    241    239    306   1984   1845  23932  23569\n",
      "   3471   3461   3307   1672   1794   2488  38544  50035  47972  46799\n",
      "  86014  85233]\n"
     ]
    }
   ],
   "source": [
    " unique_values = treat['count'].unique()\n",
    " print(unique_values)"
   ]
  },
  {
   "cell_type": "code",
   "execution_count": 38,
   "id": "2ef7709e",
   "metadata": {},
   "outputs": [
    {
     "data": {
      "text/html": [
       "<div>\n",
       "<style scoped>\n",
       "    .dataframe tbody tr th:only-of-type {\n",
       "        vertical-align: middle;\n",
       "    }\n",
       "\n",
       "    .dataframe tbody tr th {\n",
       "        vertical-align: top;\n",
       "    }\n",
       "\n",
       "    .dataframe thead th {\n",
       "        text-align: right;\n",
       "    }\n",
       "</style>\n",
       "<table border=\"1\" class=\"dataframe\">\n",
       "  <thead>\n",
       "    <tr style=\"text-align: right;\">\n",
       "      <th></th>\n",
       "      <th>country</th>\n",
       "      <th>year</th>\n",
       "      <th>count</th>\n",
       "    </tr>\n",
       "  </thead>\n",
       "  <tbody>\n",
       "    <tr>\n",
       "      <th>0</th>\n",
       "      <td>South Africa</td>\n",
       "      <td>2020</td>\n",
       "      <td>13417</td>\n",
       "    </tr>\n",
       "    <tr>\n",
       "      <th>1</th>\n",
       "      <td>South Africa</td>\n",
       "      <td>2018</td>\n",
       "      <td>17881</td>\n",
       "    </tr>\n",
       "    <tr>\n",
       "      <th>2</th>\n",
       "      <td>South Africa</td>\n",
       "      <td>2017</td>\n",
       "      <td>19492</td>\n",
       "    </tr>\n",
       "    <tr>\n",
       "      <th>3</th>\n",
       "      <td>Antigua and Barbuda</td>\n",
       "      <td>2021</td>\n",
       "      <td>11</td>\n",
       "    </tr>\n",
       "    <tr>\n",
       "      <th>4</th>\n",
       "      <td>Jamaica</td>\n",
       "      <td>2013</td>\n",
       "      <td>94</td>\n",
       "    </tr>\n",
       "  </tbody>\n",
       "</table>\n",
       "</div>"
      ],
      "text/plain": [
       "               country  year  count\n",
       "0         South Africa  2020  13417\n",
       "1         South Africa  2018  17881\n",
       "2         South Africa  2017  19492\n",
       "3  Antigua and Barbuda  2021     11\n",
       "4              Jamaica  2013     94"
      ]
     },
     "execution_count": 38,
     "metadata": {},
     "output_type": "execute_result"
    }
   ],
   "source": [
    "treat.head()\n"
   ]
  },
  {
   "cell_type": "code",
   "execution_count": 39,
   "id": "82d41e8f",
   "metadata": {},
   "outputs": [
    {
     "data": {
      "text/html": [
       "<div>\n",
       "<style scoped>\n",
       "    .dataframe tbody tr th:only-of-type {\n",
       "        vertical-align: middle;\n",
       "    }\n",
       "\n",
       "    .dataframe tbody tr th {\n",
       "        vertical-align: top;\n",
       "    }\n",
       "\n",
       "    .dataframe thead th {\n",
       "        text-align: right;\n",
       "    }\n",
       "</style>\n",
       "<table border=\"1\" class=\"dataframe\">\n",
       "  <thead>\n",
       "    <tr style=\"text-align: right;\">\n",
       "      <th></th>\n",
       "      <th>treat_id</th>\n",
       "      <th>country</th>\n",
       "      <th>year</th>\n",
       "      <th>count</th>\n",
       "    </tr>\n",
       "  </thead>\n",
       "  <tbody>\n",
       "    <tr>\n",
       "      <th>0</th>\n",
       "      <td>1</td>\n",
       "      <td>South Africa</td>\n",
       "      <td>2020</td>\n",
       "      <td>13417</td>\n",
       "    </tr>\n",
       "    <tr>\n",
       "      <th>1</th>\n",
       "      <td>2</td>\n",
       "      <td>South Africa</td>\n",
       "      <td>2018</td>\n",
       "      <td>17881</td>\n",
       "    </tr>\n",
       "    <tr>\n",
       "      <th>2</th>\n",
       "      <td>3</td>\n",
       "      <td>South Africa</td>\n",
       "      <td>2017</td>\n",
       "      <td>19492</td>\n",
       "    </tr>\n",
       "    <tr>\n",
       "      <th>3</th>\n",
       "      <td>4</td>\n",
       "      <td>Antigua and Barbuda</td>\n",
       "      <td>2021</td>\n",
       "      <td>11</td>\n",
       "    </tr>\n",
       "    <tr>\n",
       "      <th>4</th>\n",
       "      <td>5</td>\n",
       "      <td>Jamaica</td>\n",
       "      <td>2013</td>\n",
       "      <td>94</td>\n",
       "    </tr>\n",
       "  </tbody>\n",
       "</table>\n",
       "</div>"
      ],
      "text/plain": [
       "   treat_id              country  year  count\n",
       "0         1         South Africa  2020  13417\n",
       "1         2         South Africa  2018  17881\n",
       "2         3         South Africa  2017  19492\n",
       "3         4  Antigua and Barbuda  2021     11\n",
       "4         5              Jamaica  2013     94"
      ]
     },
     "execution_count": 39,
     "metadata": {},
     "output_type": "execute_result"
    }
   ],
   "source": [
    "start = 1\n",
    "\n",
    "treat.insert(0, 'treat_id', range(start, start + len(treat)))\n",
    "treat.head()"
   ]
  },
  {
   "cell_type": "code",
   "execution_count": 40,
   "id": "ca8cd38d",
   "metadata": {},
   "outputs": [],
   "source": [
    "treat.to_csv('treat.csv', index=False)"
   ]
  }
 ],
 "metadata": {
  "kernelspec": {
   "display_name": "Python 3 (ipykernel)",
   "language": "python",
   "name": "python3"
  },
  "language_info": {
   "codemirror_mode": {
    "name": "ipython",
    "version": 3
   },
   "file_extension": ".py",
   "mimetype": "text/x-python",
   "name": "python",
   "nbconvert_exporter": "python",
   "pygments_lexer": "ipython3",
   "version": "3.10.9"
  }
 },
 "nbformat": 4,
 "nbformat_minor": 5
}
